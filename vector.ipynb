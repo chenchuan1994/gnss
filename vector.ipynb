{
 "cells": [
  {
   "cell_type": "code",
   "execution_count": 35,
   "id": "2c38260e",
   "metadata": {},
   "outputs": [],
   "source": [
    "import numpy as np\n",
    "import math"
   ]
  },
  {
   "cell_type": "code",
   "execution_count": 36,
   "id": "68ce29ec",
   "metadata": {},
   "outputs": [
    {
     "data": {
      "text/plain": [
       "6"
      ]
     },
     "execution_count": 36,
     "metadata": {},
     "output_type": "execute_result"
    }
   ],
   "source": [
    "a = np.array([2, 2])\n",
    "b = np.array([3, 0])\n",
    "\n",
    "# 向量的点乘\n",
    "np.dot(a,b)"
   ]
  },
  {
   "cell_type": "code",
   "execution_count": 37,
   "id": "550e5220",
   "metadata": {},
   "outputs": [
    {
     "name": "stdout",
     "output_type": "stream",
     "text": [
      "2.8284271247461903\n"
     ]
    }
   ],
   "source": [
    "# a 向量的模\n",
    "a_norm = np.linalg.norm(a)\n",
    "print(a_norm)"
   ]
  },
  {
   "cell_type": "code",
   "execution_count": 38,
   "id": "229db2a3",
   "metadata": {},
   "outputs": [
    {
     "name": "stdout",
     "output_type": "stream",
     "text": [
      "3.0\n"
     ]
    }
   ],
   "source": [
    "# b 向量的模\n",
    "b_norm = np.linalg.norm(b)\n",
    "print(b_norm)"
   ]
  },
  {
   "cell_type": "code",
   "execution_count": 39,
   "id": "ce443a5b",
   "metadata": {},
   "outputs": [],
   "source": [
    "# a,b向量的夹角\n",
    "cos_a = np.dot(a,b) / (a_norm * b_norm)"
   ]
  },
  {
   "cell_type": "code",
   "execution_count": 40,
   "id": "05d601d8",
   "metadata": {},
   "outputs": [],
   "source": [
    "l = np.arccos(cos_a)"
   ]
  },
  {
   "cell_type": "code",
   "execution_count": 41,
   "id": "2c3f31f4",
   "metadata": {},
   "outputs": [
    {
     "data": {
      "text/plain": [
       "45.00000000000001"
      ]
     },
     "execution_count": 41,
     "metadata": {},
     "output_type": "execute_result"
    }
   ],
   "source": [
    "l*180/math.pi"
   ]
  },
  {
   "cell_type": "code",
   "execution_count": 53,
   "id": "dce47007",
   "metadata": {},
   "outputs": [
    {
     "name": "stdout",
     "output_type": "stream",
     "text": [
      "6\n"
     ]
    }
   ],
   "source": [
    "# 向量的向量积\n",
    "c = np.cross(b, a)  # 顺时针为负数\n",
    "print(c)"
   ]
  },
  {
   "cell_type": "code",
   "execution_count": 54,
   "id": "23bd63dd",
   "metadata": {},
   "outputs": [
    {
     "data": {
      "text/plain": [
       "44.99999999999999"
      ]
     },
     "execution_count": 54,
     "metadata": {},
     "output_type": "execute_result"
    }
   ],
   "source": [
    "np.arcsin(c / (a_norm * b_norm)) * 180 / math.pi"
   ]
  }
 ],
 "metadata": {
  "kernelspec": {
   "display_name": "Python 3 (ipykernel)",
   "language": "python",
   "name": "python3"
  },
  "language_info": {
   "codemirror_mode": {
    "name": "ipython",
    "version": 3
   },
   "file_extension": ".py",
   "mimetype": "text/x-python",
   "name": "python",
   "nbconvert_exporter": "python",
   "pygments_lexer": "ipython3",
   "version": "3.10.6"
  }
 },
 "nbformat": 4,
 "nbformat_minor": 5
}
